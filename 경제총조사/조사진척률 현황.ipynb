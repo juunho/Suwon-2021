{
 "cells": [
  {
   "cell_type": "code",
   "execution_count": 11,
   "metadata": {},
   "outputs": [],
   "source": [
    "import os\n",
    "import pandas as pd\n",
    "import datetime"
   ]
  },
  {
   "cell_type": "code",
   "execution_count": 12,
   "metadata": {},
   "outputs": [],
   "source": [
    "# 데이터 로드\n",
    "path = './금일 데이터/'\n",
    "file_list = os.listdir(path)"
   ]
  },
  {
   "cell_type": "code",
   "execution_count": 13,
   "metadata": {},
   "outputs": [],
   "source": [
    "# 데이터프레임 생성\n",
    "df = pd.DataFrame()\n",
    "for i in file_list:\n",
    "    data = pd.read_excel(path + i)\n",
    "    df = pd.concat([df,data])\n",
    "\n",
    "df = df.reset_index(drop =True)\n",
    "df.columns = df.columns.str.replace('\\n','')"
   ]
  },
  {
   "cell_type": "code",
   "execution_count": 14,
   "metadata": {},
   "outputs": [
    {
     "name": "stdout",
     "output_type": "stream",
     "text": [
      "2021-06-03\n"
     ]
    }
   ],
   "source": [
    "# 데이터기준일자 생성\n",
    "today = datetime.datetime.now()\n",
    "REFERENCEDATE = today-datetime.timedelta(1)\n",
    "REFERENCEDATE = REFERENCEDATE.strftime('%Y-%m-%d')\n",
    "print(REFERENCEDATE)"
   ]
  },
  {
   "cell_type": "code",
   "execution_count": 15,
   "metadata": {},
   "outputs": [
    {
     "name": "stdout",
     "output_type": "stream",
     "text": [
      "06월03일\n"
     ]
    }
   ],
   "source": [
    "# 일자 변수 추출\n",
    "today = datetime.datetime.now()\n",
    "dt = today-datetime.timedelta(1)\n",
    "dt = dt.strftime('%m월%d일')\n",
    "\n",
    " # datetime = df1.loc[:,dt]\n",
    "print(dt)"
   ]
  },
  {
   "cell_type": "code",
   "execution_count": 16,
   "metadata": {},
   "outputs": [
    {
     "name": "stdout",
     "output_type": "stream",
     "text": [
      "06월19일\n"
     ]
    }
   ],
   "source": [
    "## 샘플용 # 실제 데이터 들어올 시 삭제\n",
    "sample = today+datetime.timedelta(15)\n",
    "sample= sample.strftime('%m월%d일')\n",
    "\n",
    "dfsample = df.loc[:,sample]\n",
    "print(sample)"
   ]
  },
  {
   "cell_type": "code",
   "execution_count": 17,
   "metadata": {},
   "outputs": [],
   "source": [
    "# 컬럼 정제\n",
    "df = df.iloc[:,1:7]\n",
    "df[sample] = dfsample\n",
    " # df[dt] = datetime\n",
    "df['데이터기준일자'] = REFERENCEDATE"
   ]
  },
  {
   "cell_type": "code",
   "execution_count": 18,
   "metadata": {},
   "outputs": [],
   "source": [
    "df.to_csv('조사진척률 현황_'+REFERENCEDATE+'.csv', header=True, index=False, encoding='EUC-KR')"
   ]
  }
 ],
 "metadata": {
  "kernelspec": {
   "display_name": "Python 3",
   "language": "python",
   "name": "python3"
  },
  "language_info": {
   "codemirror_mode": {
    "name": "ipython",
    "version": 3
   },
   "file_extension": ".py",
   "mimetype": "text/x-python",
   "name": "python",
   "nbconvert_exporter": "python",
   "pygments_lexer": "ipython3",
   "version": "3.8.5"
  }
 },
 "nbformat": 4,
 "nbformat_minor": 4
}
